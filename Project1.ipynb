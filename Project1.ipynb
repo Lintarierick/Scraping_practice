{
 "cells": [
  {
   "cell_type": "markdown",
   "id": "b725e4f2-27b8-4df2-b835-522d426de8b5",
   "metadata": {},
   "source": [
    "### Project Overview: \n",
    "\n",
    "You'll extract quotes, authors, and tags from the main page."
   ]
  },
  {
   "cell_type": "code",
   "execution_count": 1,
   "id": "d37abea2-1495-4aef-a6fd-4ae68bc46323",
   "metadata": {},
   "outputs": [],
   "source": [
    "# import requests\n",
    "import requests\n",
    "\n",
    "# Function to fetch the webpage. This function fetches the HTML content of the specified URL and handles any request errors\n",
    "def fetch_webpage(url):\n",
    "    try:\n",
    "        response = requests.get(url)\n",
    "        response.raise_for_status()    # Raise an error for bad responses\n",
    "        return response.text\n",
    "    except requests.RequestException as e:\n",
    "        print(f\"Error fetching the webpage: {e}\")\n",
    "        return None"
   ]
  },
  {
   "cell_type": "code",
   "execution_count": 2,
   "id": "8326cb88-3b97-4f53-8bd0-fa10a31d4915",
   "metadata": {},
   "outputs": [],
   "source": [
    "# import BeautifulSoup\n",
    "from bs4 import BeautifulSoup\n",
    "\n",
    "# Function to parse the HTML. This function uses BeautifulSoup to parse the HTML\n",
    "# The function selects all quotes using \"soup.select('.quote')\"\n",
    "# The function also retrieves the text, author, and tags for each quote and stores them in a list\n",
    "\n",
    "def parse_webpage(html):\n",
    "    \n",
    "    soup = BeautifulSoup(html, 'html.parser')     # Parse the HTML content\n",
    "    quotes = []     #Initialize an empty list to contain the list of quotes\n",
    "    \n",
    "    for quote_item in soup.select('.quote'):     # Select all elements with class 'quote'\n",
    "        text = quote_item.select_one('.text').get_text(strip=True)  # Get quote text\n",
    "        author = quote_item.select_one('.author').get_text(strip=True)   # Get author\n",
    "        tags = [tag.get_text(strip=True) for tag in quote_item.select('.tag')]   # Get tags\n",
    "        quotes.append({'text':text, 'author':author, 'tags':tags})     # Append quote to the list 'quotes'\n",
    "    return quotes\n"
   ]
  },
  {
   "cell_type": "code",
   "execution_count": 3,
   "id": "648a9117-3873-4fef-b1c4-c13c7525a05d",
   "metadata": {},
   "outputs": [
    {
     "name": "stdout",
     "output_type": "stream",
     "text": [
      "Quote: “The world as we have created it is a process of our thinking. It cannot be changed without changing our thinking.”\n",
      "Author: Albert Einstein\n",
      "Tags: change,deep-thoughts,thinking,world\n",
      "\n",
      "Quote: “It is our choices, Harry, that show what we truly are, far more than our abilities.”\n",
      "Author: J.K. Rowling\n",
      "Tags: abilities,choices\n",
      "\n",
      "Quote: “There are only two ways to live your life. One is as though nothing is a miracle. The other is as though everything is a miracle.”\n",
      "Author: Albert Einstein\n",
      "Tags: inspirational,life,live,miracle,miracles\n",
      "\n",
      "Quote: “The person, be it gentleman or lady, who has not pleasure in a good novel, must be intolerably stupid.”\n",
      "Author: Jane Austen\n",
      "Tags: aliteracy,books,classic,humor\n",
      "\n",
      "Quote: “Imperfection is beauty, madness is genius and it's better to be absolutely ridiculous than absolutely boring.”\n",
      "Author: Marilyn Monroe\n",
      "Tags: be-yourself,inspirational\n",
      "\n",
      "Quote: “Try not to become a man of success. Rather become a man of value.”\n",
      "Author: Albert Einstein\n",
      "Tags: adulthood,success,value\n",
      "\n",
      "Quote: “It is better to be hated for what you are than to be loved for what you are not.”\n",
      "Author: André Gide\n",
      "Tags: life,love\n",
      "\n",
      "Quote: “I have not failed. I've just found 10,000 ways that won't work.”\n",
      "Author: Thomas A. Edison\n",
      "Tags: edison,failure,inspirational,paraphrased\n",
      "\n",
      "Quote: “A woman is like a tea bag; you never know how strong it is until it's in hot water.”\n",
      "Author: Eleanor Roosevelt\n",
      "Tags: misattributed-eleanor-roosevelt\n",
      "\n",
      "Quote: “A day without sunshine is like, you know, night.”\n",
      "Author: Steve Martin\n",
      "Tags: humor,obvious,simile\n",
      "\n"
     ]
    }
   ],
   "source": [
    "# Combining everything in the main function\n",
    "def main():\n",
    "    url = 'https://quotes.toscrape.com/'    # URL of the Quotes to scrape website\n",
    "    html_content = fetch_webpage(url)     # Fetch the webpage\n",
    "    if html_content:    # If fetch was successful\n",
    "        quotes = parse_webpage(html_content)   # Parse the quotes \n",
    "        for quote in quotes:\n",
    "            print(f\"Quote: {quote['text']}\\nAuthor: {quote['author']}\\nTags: {','.join(quote['tags'])}\\n\")\n",
    "if __name__ =='__main__':\n",
    "    main()    # Execute the main function"
   ]
  },
  {
   "cell_type": "code",
   "execution_count": null,
   "id": "6de29ec0-defc-4386-a289-6d3b71ac017c",
   "metadata": {},
   "outputs": [],
   "source": []
  }
 ],
 "metadata": {
  "kernelspec": {
   "display_name": "Python 3",
   "language": "python",
   "name": "python3"
  },
  "language_info": {
   "codemirror_mode": {
    "name": "ipython",
    "version": 3
   },
   "file_extension": ".py",
   "mimetype": "text/x-python",
   "name": "python",
   "nbconvert_exporter": "python",
   "pygments_lexer": "ipython3",
   "version": "3.8.5"
  }
 },
 "nbformat": 4,
 "nbformat_minor": 5
}
